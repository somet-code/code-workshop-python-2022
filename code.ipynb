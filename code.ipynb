{
 "cells": [
  {
   "cell_type": "code",
   "execution_count": 1,
   "id": "af86eb02",
   "metadata": {},
   "outputs": [
    {
     "data": {
      "text/html": [
       "<style>.rendered_html h1 {\n",
       "    background-color: #eef7f7;\n",
       "    border-left: 5px solid #046d6d;\n",
       "    padding: 15px;\n",
       "    font-size: 225%;\n",
       "}\n",
       "\n",
       ".rendered_html table {\n",
       "\tfont-size: 14px;\n",
       "}\n",
       "\n",
       ".rendered_html tbody tr:nth-child(2n+1) {\n",
       "\tbackground-color: #ffffff;\n",
       "}\n",
       "\n",
       "a {\n",
       "    color:#035252; \n",
       "}</style>"
      ],
      "text/plain": [
       "<IPython.core.display.HTML object>"
      ]
     },
     "execution_count": 1,
     "metadata": {},
     "output_type": "execute_result"
    }
   ],
   "source": [
    "from IPython.core.display import HTML\n",
    "css = open(\"./styles/custom.css\", \"r\").read()\n",
    "styles = f'<style>{css}</style>'\n",
    "HTML(styles)"
   ]
  },
  {
   "cell_type": "markdown",
   "id": "33e7934f-beab-4341-adfd-93cef22ee3b4",
   "metadata": {},
   "source": [
    "# Sequences\n",
    "\n",
    "Sequences are *iterables*: objects capable of returning their members one at a time."
   ]
  },
  {
   "cell_type": "markdown",
   "id": "3768ad9e-6538-47c7-9b96-5a75faa9d9d4",
   "metadata": {},
   "source": [
    "## Lists\n",
    "A *mutable* sequence with elements accessible via integer indices.<br>\n",
    "Lists can be *homogeneous* (same type across elements) or *heterogeneous* (elements of different types)."
   ]
  },
  {
   "cell_type": "code",
   "execution_count": null,
   "id": "09563870",
   "metadata": {},
   "outputs": [],
   "source": [
    "my_list1 = ['A', 'm', 'a', 'n', 'd', 'a'] #homogeneous list\n",
    "my_list2 = [6, 'hi', True, -3.2] # heterogeneous list"
   ]
  },
  {
   "cell_type": "markdown",
   "id": "6a63f0a4",
   "metadata": {},
   "source": [
    "The following data were measured at <a href=\"https://www.weather.gov/wrh/Climate?wfo=oun\">Will Rogers Airport</a> over the first 15 days of June. (Click on the Observed Weather tab to access such data.)<br>\n",
    "Assume that minimum/maximum relative humidity (RH) occurred at the same time as the minimum/maximum temperature (t)."
   ]
  },
  {
   "cell_type": "code",
   "execution_count": 2,
   "id": "95558a63",
   "metadata": {},
   "outputs": [],
   "source": [
    "days = list(range(1, 16))\n",
    "t_min = [61, 59, 62, 61, 67, 68, 68, 79, 65, 67, 72, 71, 75, ]\n",
    "t_max = [76, 77, 78, 83, 80, 89, 84, 66, 83, 89, 94, 96, 94, ]\n",
    "rh_min = [71, 57, 53, 58, 56, 59, 70, 69, 59, 54, 51, 43, 39, ]\n",
    "rh_max = [100, 100, 83, 97, 96, 88, 100, 100, 93, 94, 97, 84, 71, ]"
   ]
  },
  {
   "cell_type": "markdown",
   "id": "bbe6a781",
   "metadata": {},
   "source": [
    "We expect the length of each list to be 15."
   ]
  },
  {
   "cell_type": "code",
   "execution_count": 14,
   "id": "6e0aaf14",
   "metadata": {},
   "outputs": [
    {
     "name": "stdout",
     "output_type": "stream",
     "text": [
      "13\n",
      "True\n"
     ]
    }
   ],
   "source": [
    "n = len(t_min)\n",
    "print(n)\n",
    "equal_lengths = len(t_min) == len(t_max) == len(rh_min) == len(rh_max)\n",
    "print(equal_lengths)"
   ]
  },
  {
   "cell_type": "markdown",
   "id": "27bce498",
   "metadata": {},
   "source": [
    "We can access individual elements of lists using *indexing*.<br>\n",
    "Indices start at 0 and progress to n - 1."
   ]
  },
  {
   "cell_type": "code",
   "execution_count": null,
   "id": "8836e171",
   "metadata": {},
   "outputs": [],
   "source": [
    "# Print the fourth element of t_max\n",
    "print(t_max[3])"
   ]
  },
  {
   "cell_type": "code",
   "execution_count": null,
   "id": "9b074426",
   "metadata": {},
   "outputs": [],
   "source": [
    "# Exercise: Print the sixth element of rh_max"
   ]
  },
  {
   "cell_type": "markdown",
   "id": "476a3928",
   "metadata": {},
   "source": [
    "Negative indices measured relative to the end of the list.<br>\n",
    "We can work backwards through a list using negative indices!<br>\n",
    "We can access the last element of a list using the -1 index.<br>\n",
    "We can work further back using more negative indices.<br>"
   ]
  },
  {
   "cell_type": "code",
   "execution_count": null,
   "id": "373f50ae",
   "metadata": {},
   "outputs": [],
   "source": [
    "# Print the last element of days"
   ]
  },
  {
   "cell_type": "code",
   "execution_count": null,
   "id": "b4df4c50",
   "metadata": {},
   "outputs": [],
   "source": [
    "# Exercise: Print the fourth element of t_max two different ways."
   ]
  },
  {
   "cell_type": "markdown",
   "id": "28c7ed10",
   "metadata": {},
   "source": [
    "We can access sequences of elements of lists using *slicing*."
   ]
  },
  {
   "cell_type": "markdown",
   "id": "79546b7a-12b5-48b3-9b49-6289425e93eb",
   "metadata": {},
   "source": [
    "# Mappings - dictionaries\n",
    "Also iterables, like sequences"
   ]
  },
  {
   "cell_type": "markdown",
   "id": "04101ebe-266f-4ece-bbca-dcb60ad7b59a",
   "metadata": {},
   "source": [
    "# Loops"
   ]
  },
  {
   "cell_type": "markdown",
   "id": "6681d767-37ac-41be-836e-bde20617fa51",
   "metadata": {},
   "source": [
    "## for loops"
   ]
  },
  {
   "cell_type": "markdown",
   "id": "a7db12cb",
   "metadata": {},
   "source": [
    "## while loops"
   ]
  },
  {
   "cell_type": "markdown",
   "id": "9f21d1d9-7dcd-40db-923f-08a0c73a7159",
   "metadata": {},
   "source": [
    "# Functions\n",
    "A *body* or series of statements which *returns* some value to a caller.<br>\n",
    "Can be passed zero or more *arguments* in the place of *parameters* which may be used in the *execution* of the body.<br>"
   ]
  },
  {
   "cell_type": "markdown",
   "id": "fa9d284e",
   "metadata": {},
   "source": [
    "## Built-in functions\n",
    "Python provides many built-in functions that always are available to the user.<br>\n",
    "Here are several useful built-in functions.<br>"
   ]
  },
  {
   "cell_type": "markdown",
   "id": "e3aaf264-71bc-4760-9c7a-11ef25bdecc2",
   "metadata": {},
   "source": [
    "| Function | Description |\n",
    "| -------- | ----------- |\n",
    "| abs(x) | returns the absolute value of number x |\n",
    "| bool(o) | returns the Boolean value of object o |\n",
    "| divmod(x, y) | returns (quotient, remainder) |\n",
    "| id(o) | returns the address of object o in memory, as an integer |\n",
    "| len(s) | returns the length of str s, as an integer |\n",
    "| list(o) | returns the list constructed from iterable object o |\n",
    "| pow(x, y) | returns x to the power y |\n",
    "| print(s) | later |\n",
    "| range() | later |\n",
    "| round(x, n = 0) | returns x rounded to n digits precision after the decimal point |\n",
    "| str(o) | returns the string version of object o |\n",
    "| type(o) | returns the type (list, bool, str, etc.) of object o |"
   ]
  },
  {
   "cell_type": "markdown",
   "id": "f3b8e3f7-4345-48b5-b337-968035f48368",
   "metadata": {},
   "source": [
    "## User-defined functions (DIY)\n",
    "<p>Start with the <code>def</code> keyword.<br>\n",
    "Follow with the name of your function, parentheses with optional parameters separated by commas, and a colon.<br>\n",
    "The statements to be executed, including a return statement, follow as an indented code block.</p>\n",
    "\n",
    "~~~python\n",
    "def func(arg1, arg2):\n",
    "    statement1\n",
    "    statement2\n",
    "    ...\n",
    "    ...\n",
    "    return value\n",
    "~~~\n",
    "\n",
    "<p>A function will not do anything until it is *called*.</p>"
   ]
  },
  {
   "cell_type": "markdown",
   "id": "db1a41c9",
   "metadata": {},
   "source": [
    "<p>Run the cell below that defines i_love_cats().<br>\n",
    "Why doesn't anything happen when you run the cell?</p>"
   ]
  },
  {
   "cell_type": "code",
   "execution_count": null,
   "id": "d2dacb07",
   "metadata": {},
   "outputs": [],
   "source": [
    "# Example\n",
    "def i_love_cats():\n",
    "    return \"I love cats! They're my favorite!\""
   ]
  },
  {
   "cell_type": "markdown",
   "id": "117dc7fd",
   "metadata": {},
   "source": [
    "<p>Running the cell simply adds i_love_cats to the namespace of this notebook.<br>\n",
    "The function will not execute until it is called as i_love_cats().</p>"
   ]
  },
  {
   "cell_type": "markdown",
   "id": "94784340",
   "metadata": {},
   "source": [
    "i_love_cats() returns a string, which we can't view until we print it.\n",
    "Let's call i_love_cats(), store its return value in a variable, and print it."
   ]
  },
  {
   "cell_type": "code",
   "execution_count": null,
   "id": "7a9bcd6f",
   "metadata": {},
   "outputs": [],
   "source": [
    "cat_string = i_love_cats()\n",
    "print(cat_string)"
   ]
  },
  {
   "cell_type": "markdown",
   "id": "db8c2465",
   "metadata": {},
   "source": [
    "Run the cell that defines silly_print() to add it to the notebook namespace.<br>\n",
    "Notice that silly_print() has one parameter, which means the user must supply one argument to run it."
   ]
  },
  {
   "cell_type": "code",
   "execution_count": null,
   "id": "d3f9687f-d097-4788-8eda-1514920b4a6c",
   "metadata": {},
   "outputs": [],
   "source": [
    "# Example\n",
    "def silly_print(s):\n",
    "    return 'Silly ' + s + '!'"
   ]
  },
  {
   "cell_type": "markdown",
   "id": "401dbbe8",
   "metadata": {},
   "source": [
    "Execute silly_print() with arguments.<br>\n",
    "Make your own arguments!"
   ]
  },
  {
   "cell_type": "code",
   "execution_count": null,
   "id": "0421f83b-618f-4ba6-83d1-f76705ce83ee",
   "metadata": {},
   "outputs": [],
   "source": [
    "print(silly_print('hi'))\n",
    "print(silly_print('cat'))\n",
    "# Insert your own argument\n",
    "#print(silly_print(''))\n",
    "#print(silly_print(''))"
   ]
  },
  {
   "cell_type": "markdown",
   "id": "099d1b83",
   "metadata": {},
   "source": [
    "What happens if you don't insert any argument?<br>\n",
    "Run the cell below without making any changes and see what happens."
   ]
  },
  {
   "cell_type": "code",
   "execution_count": null,
   "id": "63a0c912",
   "metadata": {},
   "outputs": [],
   "source": [
    "print(silly_print())"
   ]
  },
  {
   "cell_type": "markdown",
   "id": "5d3af728",
   "metadata": {},
   "source": [
    "We got a <code>TypeError</code> because silly_print() is missing its one required argument!\n",
    "<p>One way to get around this type of error is to add a default value.<br>\n",
    "Let's add a default value to silly_print().</p>"
   ]
  },
  {
   "cell_type": "code",
   "execution_count": null,
   "id": "c9831f68",
   "metadata": {},
   "outputs": [],
   "source": [
    "# Example\n",
    "def silly_print(s='default'):\n",
    "    return 'Silly ' + s + '!'"
   ]
  },
  {
   "cell_type": "code",
   "execution_count": null,
   "id": "b72d7bba",
   "metadata": {},
   "outputs": [],
   "source": [
    "print(silly_print())"
   ]
  },
  {
   "cell_type": "code",
   "execution_count": null,
   "id": "6e1b1335",
   "metadata": {},
   "outputs": [],
   "source": []
  }
 ],
 "metadata": {
  "kernelspec": {
   "display_name": "Python 3 (ipykernel)",
   "language": "python",
   "name": "python3"
  },
  "language_info": {
   "codemirror_mode": {
    "name": "ipython",
    "version": 3
   },
   "file_extension": ".py",
   "mimetype": "text/x-python",
   "name": "python",
   "nbconvert_exporter": "python",
   "pygments_lexer": "ipython3",
   "version": "3.9.7"
  }
 },
 "nbformat": 4,
 "nbformat_minor": 5
}
