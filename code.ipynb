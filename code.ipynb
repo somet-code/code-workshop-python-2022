{
 "cells": [
  {
   "cell_type": "markdown",
   "id": "33e7934f-beab-4341-adfd-93cef22ee3b4",
   "metadata": {},
   "source": [
    "# Iterables\n",
    "An object capable of returning its members one at a time."
   ]
  },
  {
   "cell_type": "markdown",
   "id": "3768ad9e-6538-47c7-9b96-5a75faa9d9d4",
   "metadata": {},
   "source": [
    "## Lists\n",
    "A sequence with elements accessible via integer indices."
   ]
  },
  {
   "cell_type": "markdown",
   "id": "79546b7a-12b5-48b3-9b49-6289425e93eb",
   "metadata": {},
   "source": [
    "## Tuples"
   ]
  },
  {
   "cell_type": "markdown",
   "id": "04101ebe-266f-4ece-bbca-dcb60ad7b59a",
   "metadata": {},
   "source": [
    "# Loops"
   ]
  },
  {
   "cell_type": "markdown",
   "id": "6681d767-37ac-41be-836e-bde20617fa51",
   "metadata": {},
   "source": [
    "## for loops"
   ]
  },
  {
   "cell_type": "markdown",
   "id": "9f21d1d9-7dcd-40db-923f-08a0c73a7159",
   "metadata": {},
   "source": [
    "# Functions\n",
    "A series of statements which *returns* some value to a caller.<br>\n",
    "Can be passed zero or more *arguments* in the place of *parameters* which may be used in the *execution* of the body.<br>"
   ]
  },
  {
   "cell_type": "markdown",
   "id": "fa9d284e",
   "metadata": {},
   "source": [
    "## Built-in functions\n",
    "Python provides many built-in functions that always are available to the user.<br>\n",
    "Here are several useful built-in functions.<br>"
   ]
  },
  {
   "cell_type": "markdown",
   "id": "e3aaf264-71bc-4760-9c7a-11ef25bdecc2",
   "metadata": {},
   "source": [
    "| Function | Description |\n",
    "| -------- | ----------- |\n",
    "| abs(x) | returns the absolute value of number x |\n",
    "| id(o) | returns the address of object o in memory, as an integer< |\n",
    "| len(s) | returns the length of str s, as an integer |\n",
    "| list() | later |\n",
    "| print(s) | later |\n",
    "| range() | later |\n",
    "| round(x) | returns the rounded value of number x |\n",
    "| str(o) | returns the string form of object o |\n",
    "| type(o) | returns the type (list, bool, str, etc.) of object o |"
   ]
  },
  {
   "cell_type": "markdown",
   "id": "f3b8e3f7-4345-48b5-b337-968035f48368",
   "metadata": {},
   "source": [
    "## User-defined functions (DIY)\n",
    "Start with <code>def</code> keyword.\n",
    "Follow with the name of your function, parentheses with optional parameters separated by commas, and a colon.\n",
    "The statements to be executed, including a return statement, follow as an indented code block.\n",
    "\n",
    "~~~python\n",
    "def func(arg1, arg2):\n",
    "    statement1\n",
    "    statement2\n",
    "    ...\n",
    "    ...\n",
    "    return value\n",
    "~~~\n",
    "\n",
    "A function will not do anything until it is *called*."
   ]
  },
  {
   "cell_type": "markdown",
   "id": "db1a41c9",
   "metadata": {},
   "source": [
    "Run the cell below that defines i_love_cats().<br>\n",
    "Why doesn't anything happen when you run the cell?"
   ]
  },
  {
   "cell_type": "code",
   "execution_count": null,
   "id": "d2dacb07",
   "metadata": {},
   "outputs": [],
   "source": [
    "# Example\n",
    "def i_love_cats():\n",
    "    return \"I love cats! They're my favorite!\""
   ]
  },
  {
   "cell_type": "markdown",
   "id": "117dc7fd",
   "metadata": {},
   "source": [
    "Running the cell simply adds i_love_cats to the namespace of this notebook.<br>\n",
    "The function will not execute until it is called as i_love_cats()."
   ]
  },
  {
   "cell_type": "markdown",
   "id": "94784340",
   "metadata": {},
   "source": [
    "i_love_cats() returns a str, which we can't view until we print it.\n",
    "Let's call i_love_cats(), store its return value, and print it."
   ]
  },
  {
   "cell_type": "code",
   "execution_count": null,
   "id": "7a9bcd6f",
   "metadata": {},
   "outputs": [],
   "source": [
    "cat_string = i_love_cats()\n",
    "print(cat_string)"
   ]
  },
  {
   "cell_type": "markdown",
   "id": "db8c2465",
   "metadata": {},
   "source": [
    "Run the cell that defines silly_print() to add it to the notebook namespace."
   ]
  },
  {
   "cell_type": "code",
   "execution_count": null,
   "id": "d3f9687f-d097-4788-8eda-1514920b4a6c",
   "metadata": {},
   "outputs": [],
   "source": [
    "# Example\n",
    "def silly_print(s):\n",
    "    return 'Silly ' + s + '!'"
   ]
  },
  {
   "cell_type": "markdown",
   "id": "401dbbe8",
   "metadata": {},
   "source": [
    "Execute silly_print() with arguments.<br>\n",
    "Make your own arguments!"
   ]
  },
  {
   "cell_type": "code",
   "execution_count": null,
   "id": "0421f83b-618f-4ba6-83d1-f76705ce83ee",
   "metadata": {},
   "outputs": [],
   "source": [
    "print(silly_print('hi'))\n",
    "print(silly_print('cat'))\n",
    "# Insert your own argument\n",
    "#print(silly_print(''))\n",
    "#print(silly_print(''))"
   ]
  },
  {
   "cell_type": "markdown",
   "id": "099d1b83",
   "metadata": {},
   "source": [
    "What happens if you don't insert any argument?<br>\n",
    "Run the cell below without making any changes and see what happens."
   ]
  },
  {
   "cell_type": "code",
   "execution_count": null,
   "id": "63a0c912",
   "metadata": {},
   "outputs": [],
   "source": [
    "print(silly_print())"
   ]
  },
  {
   "cell_type": "markdown",
   "id": "5d3af728",
   "metadata": {},
   "source": [
    "We got a TypeError because silly_print() is missing its one required argument!\n",
    "<p>One way to get around this type of error is to add a default value.<br>\n",
    "Let's add a default value to silly_print().</p>"
   ]
  },
  {
   "cell_type": "code",
   "execution_count": null,
   "id": "c9831f68",
   "metadata": {},
   "outputs": [],
   "source": [
    "# Example\n",
    "def silly_print(s='default'):\n",
    "    return 'Silly ' + s + '!'"
   ]
  },
  {
   "cell_type": "code",
   "execution_count": null,
   "id": "b72d7bba",
   "metadata": {},
   "outputs": [],
   "source": [
    "print(silly_print())"
   ]
  },
  {
   "cell_type": "code",
   "execution_count": null,
   "id": "6e1b1335",
   "metadata": {},
   "outputs": [],
   "source": []
  }
 ],
 "metadata": {
  "kernelspec": {
   "display_name": "Python 3 (ipykernel)",
   "language": "python",
   "name": "python3"
  },
  "language_info": {
   "codemirror_mode": {
    "name": "ipython",
    "version": 3
   },
   "file_extension": ".py",
   "mimetype": "text/x-python",
   "name": "python",
   "nbconvert_exporter": "python",
   "pygments_lexer": "ipython3",
   "version": "3.9.7"
  }
 },
 "nbformat": 4,
 "nbformat_minor": 5
}
