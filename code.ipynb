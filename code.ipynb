{
 "cells": [
  {
   "cell_type": "markdown",
   "id": "8f40f6e5",
   "metadata": {},
   "source": [
    "# Compound data types\n",
    "Data types constructed from groups of data, possibly of different types (strings, integers, floats, etc.)"
   ]
  },
  {
   "cell_type": "markdown",
   "id": "33e7934f-beab-4341-adfd-93cef22ee3b4",
   "metadata": {},
   "source": [
    "## Sequences\n",
    "Sequences are *iterables*: objects capable of returning their members one at a time and in order.<br>\n",
    "Strings, lists, and tuples are sequences.<br><br>\n",
    "We can access individual elements of lists using *indexing* (subscripting).<br>\n",
    "Indices start from the left at 0 and progress to the right to n - 1, where n is the length of the sequence.<br><br>\n",
    "We can access subsets of lists using *slicing*, which builds on indices.<br>\n",
    "Slices have format [start:stop:step], where the element at position \"start\" is included and the element at position \"stop\" is excluded."
   ]
  },
  {
   "cell_type": "markdown",
   "id": "3768ad9e-6538-47c7-9b96-5a75faa9d9d4",
   "metadata": {},
   "source": [
    "### Lists\n",
    "A *mutable* (values can change after the object is created) sequence with elements accessible via integer indices.<br>\n",
    "Lists usually are *homogeneous* (same data type across elements) or *heterogeneous* (elements of different types)."
   ]
  },
  {
   "cell_type": "code",
   "execution_count": 1,
   "id": "09563870",
   "metadata": {},
   "outputs": [],
   "source": [
    "my_list1 = ['A', 'm', 'a', 'n', 'd', 'a'] #homogeneous list\n",
    "my_list2 = [6, 'hi', True, -3.2] # heterogeneous list"
   ]
  },
  {
   "cell_type": "markdown",
   "id": "6a63f0a4",
   "metadata": {},
   "source": [
    "The following data were measured at <a href=\"https://www.weather.gov/wrh/Climate?wfo=oun\">Will Rogers Airport</a> over the first 15 days of June. (Click on the Observed Weather tab to access such data.)<br>\n",
    "Assume that minimum/maximum relative humidity (RH) occurred at the same time as the minimum/maximum temperature (t)."
   ]
  },
  {
   "cell_type": "code",
   "execution_count": 2,
   "id": "95558a63",
   "metadata": {},
   "outputs": [],
   "source": [
    "days = list(range(1, 16))\n",
    "t_min = [61, 59, 62, 61, 67, 68, 68, 79, 65, 67, 72, 71, 75, 76, 76]\n",
    "t_max = [76, 77, 78, 83, 80, 89, 84, 66, 83, 89, 94, 96, 94, 90, 91]\n",
    "rh_min = [71, 57, 53, 58, 56, 59, 70, 69, 59, 54, 51, 43, 39, 48, 56]\n",
    "rh_max = [100, 100, 83, 97, 96, 88, 100, 100, 93, 94, 97, 84, 71, 76, 77]"
   ]
  },
  {
   "cell_type": "markdown",
   "id": "bbe6a781",
   "metadata": {},
   "source": [
    "We expect the length of each list to be 15."
   ]
  },
  {
   "cell_type": "code",
   "execution_count": 3,
   "id": "6e0aaf14",
   "metadata": {},
   "outputs": [
    {
     "name": "stdout",
     "output_type": "stream",
     "text": [
      "15\n",
      "True\n"
     ]
    }
   ],
   "source": [
    "n = len(t_min)\n",
    "print(n)\n",
    "equal_lengths = len(t_min) == len(t_max) == len(rh_min) == len(rh_max)\n",
    "print(equal_lengths)"
   ]
  },
  {
   "cell_type": "markdown",
   "id": "27bce498",
   "metadata": {},
   "source": [
    "We can access individual elements of lists using *indexing* (subscripting).<br>\n",
    "Indices start at 0 for the left-most element and progress to the right by 1 to n - 1."
   ]
  },
  {
   "cell_type": "code",
   "execution_count": 4,
   "id": "8836e171",
   "metadata": {},
   "outputs": [
    {
     "name": "stdout",
     "output_type": "stream",
     "text": [
      "83\n"
     ]
    }
   ],
   "source": [
    "# Print the fourth element of t_max\n",
    "print(t_max[3])"
   ]
  },
  {
   "cell_type": "code",
   "execution_count": 5,
   "id": "9b074426",
   "metadata": {},
   "outputs": [],
   "source": [
    "# Exercise: Print the sixth element of rh_max"
   ]
  },
  {
   "cell_type": "markdown",
   "id": "095894ff",
   "metadata": {},
   "source": [
    "Negative indices measured relative to the end of the list.<br>\n",
    "We can work backwards through a list using negative indices!<br>\n",
    "We can access the last element of a list using the -1 index.<br>\n",
    "We can work further back using more negative indices.<br>"
   ]
  },
  {
   "cell_type": "code",
   "execution_count": 6,
   "id": "373f50ae",
   "metadata": {},
   "outputs": [],
   "source": [
    "# Print the last element of days"
   ]
  },
  {
   "cell_type": "code",
   "execution_count": 7,
   "id": "83b6a745",
   "metadata": {},
   "outputs": [],
   "source": [
    "# Exercise: Print the fourth element of t_max two different ways."
   ]
  },
  {
   "cell_type": "markdown",
   "id": "28c7ed10",
   "metadata": {},
   "source": [
    "Let's try slicing!"
   ]
  },
  {
   "cell_type": "code",
   "execution_count": 8,
   "id": "c194b38d",
   "metadata": {},
   "outputs": [
    {
     "name": "stdout",
     "output_type": "stream",
     "text": [
      "[4, 6]\n",
      "[3, 4, 5, 6, 7, 8]\n",
      "[1, 2, 3, 4, 5]\n",
      "[5, 6, 7, 8, 9, 10, 11, 12, 13, 14, 15]\n"
     ]
    }
   ],
   "source": [
    "print(days[3:7:2]) # start at index 3 (4th element), end at index 6 (7th element), every other element\n",
    "print(days[2:8]) # missing step defaults to step = 1\n",
    "print(days[:5]) # missing start defaults to start = 0\n",
    "print(days[4:]) # missing stop defaults to stop = n"
   ]
  },
  {
   "cell_type": "code",
   "execution_count": 9,
   "id": "7be9bcc4",
   "metadata": {},
   "outputs": [
    {
     "name": "stdout",
     "output_type": "stream",
     "text": [
      "(1,)\n"
     ]
    }
   ],
   "source": [
    "x = 1,\n",
    "print(x)"
   ]
  },
  {
   "cell_type": "markdown",
   "id": "a85b8c7d",
   "metadata": {},
   "source": [
    "### Tuples\n",
    "An *immutable* (values cannot change after the object is created) sequence with elements accessible via integer indices.<br>\n",
    "Tuples usually are *homogeneous* (same data type across elements) or *heterogeneous* (elements of different types)."
   ]
  },
  {
   "cell_type": "markdown",
   "id": "4b87ec8c",
   "metadata": {},
   "source": [
    "Tuples look like lists but are enclosed by () rather than [].\n",
    "They can be indexed and sliced like lists."
   ]
  },
  {
   "cell_type": "code",
   "execution_count": 10,
   "id": "9cba376e",
   "metadata": {},
   "outputs": [],
   "source": [
    "my_tuple = ('This', 'is', 'my', 'tuple!')"
   ]
  },
  {
   "cell_type": "code",
   "execution_count": 11,
   "id": "cb5f6b7e",
   "metadata": {},
   "outputs": [
    {
     "name": "stdout",
     "output_type": "stream",
     "text": [
      "tuple!\n",
      "('is', 'my')\n"
     ]
    }
   ],
   "source": [
    "# Exercise: Access the last element of my_tuple\n",
    "print(my_tuple[-1])\n",
    "\n",
    "# Exercise: Access the middle elements of my_tuple\n",
    "print(my_tuple[1:-1])"
   ]
  },
  {
   "cell_type": "markdown",
   "id": "79546b7a-12b5-48b3-9b49-6289425e93eb",
   "metadata": {},
   "source": [
    "## Mappings - dictionaries\n",
    "Collection of *key:value* pairs, where each key is unique.<br>\n",
    "Also iterables, like sequences<br>"
   ]
  },
  {
   "cell_type": "markdown",
   "id": "934c9c98",
   "metadata": {},
   "source": [
    "# Control flow"
   ]
  },
  {
   "cell_type": "markdown",
   "id": "bb70006c",
   "metadata": {},
   "source": [
    "## if and if-else statements\n",
    "The <code>if</code> statement is used for *conditional executation*: It allows action(s) to be executed only if a condition is true.<br>\n",
    "~~~python\n",
    "if condition:\n",
    "    statement1\n",
    "    statement2\n",
    "    ...\n",
    "~~~\n",
    "\n",
    "Multiple conditions can be checked using one or more <code>elif</code> statements.<br>\n",
    "Only the code block for the first true condition is run; all others are ignored.\n",
    "~~~python\n",
    "if condition1:\n",
    "    statement1\n",
    "    statement2\n",
    "    ...\n",
    "elif condition2:\n",
    "    statement1\n",
    "    statement2\n",
    "    ...\n",
    "elif condition3:\n",
    "    statement1\n",
    "    statement2\n",
    "    ...\n",
    "...\n",
    "~~~\n",
    "\n",
    "If none of the conditions are met, action(s) can be executed using the <code>else</code> clause.\n",
    "~~~python\n",
    "if condition1:\n",
    "    statement1\n",
    "    statement2\n",
    "    ...\n",
    "elif condition2:\n",
    "    statement1\n",
    "    statement2\n",
    "    ...\n",
    "elif condition3:\n",
    "    statement1\n",
    "    statement2\n",
    "    ...\n",
    "...\n",
    "else:\n",
    "    statement1\n",
    "    statement2\n",
    "    ...\n",
    "~~~"
   ]
  },
  {
   "cell_type": "markdown",
   "id": "04101ebe-266f-4ece-bbca-dcb60ad7b59a",
   "metadata": {},
   "source": [
    "## Loops"
   ]
  },
  {
   "cell_type": "markdown",
   "id": "6681d767-37ac-41be-836e-bde20617fa51",
   "metadata": {},
   "source": [
    "### for loops\n",
    "Iterate over the elements of a sequence in order and perform action(s) for each element.<br>\n",
    "The action(s) are executed once for each element.<br><br>\n",
    "To define a for loop:\n",
    "<ol>\n",
    "    <li>Start with the <code>for</code> keyword.</li>\n",
    "    <li>Follow with a name for each item and the sequence.</li>\n",
    "    <li>The statements to be executed follow as an indented code block.</li>\n",
    "</ol>\n",
    "for loops follow the syntax:\n",
    "\n",
    "~~~python\n",
    "for item in sequence:\n",
    "    statement1\n",
    "    statement2\n",
    "    ...\n",
    "~~~"
   ]
  },
  {
   "cell_type": "markdown",
   "id": "8059bade",
   "metadata": {},
   "source": [
    "### while loops\n",
    "Execute action(s) repeatedly as long as a condition is true.<br>\n",
    "The action(s) are executed each time the condition is checked and is true.<br><br>\n",
    "To define a while loop:\n",
    "<ol>\n",
    "    <li>Start with the <code>while</code> keyword.</li>\n",
    "    <li>Follow with a condition.</li>\n",
    "    <li>The statements to be executed if the condition is true follow as an indented code block.</li>\n",
    "</ol>\n",
    "while loops follow the syntax:\n",
    "\n",
    "~~~python\n",
    "while condition:\n",
    "    statement1\n",
    "    statement2\n",
    "    ...\n",
    "~~~"
   ]
  },
  {
   "cell_type": "markdown",
   "id": "2b62f69b",
   "metadata": {},
   "source": [
    "### loops and else clauses\n",
    "Any loop can have an <code>else</code> clause that executes when a loop terminates."
   ]
  },
  {
   "cell_type": "markdown",
   "id": "9f21d1d9-7dcd-40db-923f-08a0c73a7159",
   "metadata": {},
   "source": [
    "# Functions\n",
    "A *body* or series of statements which *returns* some value to a caller.<br>\n",
    "Can be passed zero or more *arguments* in the place of *parameters* which may be used in the *execution* of the body.<br><br>\n",
    "Writing functions takes our code to the next level by:\n",
    "* improving readability\n",
    "* automating tasks\n",
    "* allowing the same code to be reused\n",
    "* helping us break a large task into parts"
   ]
  },
  {
   "cell_type": "code",
   "execution_count": 12,
   "id": "4982900a",
   "metadata": {},
   "outputs": [
    {
     "name": "stdout",
     "output_type": "stream",
     "text": [
      "hi there whoa\n"
     ]
    }
   ],
   "source": [
    "print('hi there ' \\\n",
    "     'whoa')"
   ]
  },
  {
   "cell_type": "markdown",
   "id": "fa9d284e",
   "metadata": {},
   "source": [
    "## Built-in functions\n",
    "Python provides many built-in functions that always are available to the user (no *import* required) and can be applied to many data types.<br>\n",
    "Here are several useful built-in functions.<br>"
   ]
  },
  {
   "cell_type": "markdown",
   "id": "e3aaf264-71bc-4760-9c7a-11ef25bdecc2",
   "metadata": {},
   "source": [
    "| Function | Description |\n",
    "| -------- | ----------- |\n",
    "| abs(x) | returns the absolute value of number x |\n",
    "| bool(o) | returns the Boolean value of object o |\n",
    "| divmod(x, y) | returns (quotient, remainder) |\n",
    "| enumerate(o) | later |\n",
    "| id(o) | returns the address of object o in memory, as an integer |\n",
    "| len(s) | returns the length of str s, as an integer |\n",
    "| list(o) | returns the list constructed from iterable object o |\n",
    "| max(o) | returns the maximum value of sequence o |\n",
    "| min(o) | returns the minimum value of sequence o |\n",
    "| pow(x, y) | returns x to the power y |\n",
    "| print(s) | later |\n",
    "| range(start=0, stop, step=0) | creates sequence of numbers |\n",
    "| round(x, n = 0) | returns x rounded to n digits precision after the decimal point |\n",
    "| str(o) | returns the string version of object o |\n",
    "| sum(o) | returns the sum of the sequence o |\n",
    "| type(o) | returns the type (list, bool, str, etc.) of object o |"
   ]
  },
  {
   "cell_type": "code",
   "execution_count": 13,
   "id": "5d8d08f9",
   "metadata": {},
   "outputs": [
    {
     "name": "stdout",
     "output_type": "stream",
     "text": [
      "The coldest minimum temperature is: 59°F\n",
      "The warmest maxumum temperature is: 96°F\n"
     ]
    }
   ],
   "source": [
    "# Exercise: Find the coldest of the minimum temperatures and the warmest of the maximum temperatures\n",
    "print('The coldest minimum temperature is: ' + str(min(t_min)) + '°F')\n",
    "print('The warmest maxumum temperature is: ' + str(max(t_max)) + '°F')"
   ]
  },
  {
   "cell_type": "code",
   "execution_count": 14,
   "id": "568f5197",
   "metadata": {},
   "outputs": [
    {
     "name": "stdout",
     "output_type": "stream",
     "text": [
      "The average minimum temperature is: 68.46666666666667°F\n"
     ]
    }
   ],
   "source": [
    "# Exercise: Use the sum built-in function to find the average minimum temperature\n",
    "print('The average minimum temperature is: ' + str(sum(t_min)/len(t_min)) + '°F')"
   ]
  },
  {
   "cell_type": "markdown",
   "id": "885ebb59",
   "metadata": {},
   "source": [
    "## Methods\n",
    "A *method* is a function that belongs to an object and is based on the object's type.<br>\n",
    "Naming convention: obj.methodname"
   ]
  },
  {
   "cell_type": "markdown",
   "id": "fabb7813",
   "metadata": {},
   "source": [
    "Run each of the following cells to demonstrate some list methods.<br>\n",
    "Try to predict what each method will do!"
   ]
  },
  {
   "cell_type": "code",
   "execution_count": 15,
   "id": "a95ef1f0",
   "metadata": {},
   "outputs": [
    {
     "data": {
      "text/plain": [
       "['A', 'm', 'a', 'n', 'd', 'a', 'A']"
      ]
     },
     "execution_count": 15,
     "metadata": {},
     "output_type": "execute_result"
    }
   ],
   "source": [
    "my_list1.append('A')\n",
    "my_list1"
   ]
  },
  {
   "cell_type": "code",
   "execution_count": 16,
   "id": "6906d55a",
   "metadata": {},
   "outputs": [
    {
     "data": {
      "text/plain": [
       "['A', 'm', 'a', 'n', 'd', 'a', 'A', 'B', 'C']"
      ]
     },
     "execution_count": 16,
     "metadata": {},
     "output_type": "execute_result"
    }
   ],
   "source": [
    "my_list1.extend(['B', 'C'])\n",
    "my_list1"
   ]
  },
  {
   "cell_type": "code",
   "execution_count": 17,
   "id": "eeb54169",
   "metadata": {},
   "outputs": [
    {
     "data": {
      "text/plain": [
       "['A', 'm', 'a', 'n', 'd', 'a', 'A', 'B']"
      ]
     },
     "execution_count": 17,
     "metadata": {},
     "output_type": "execute_result"
    }
   ],
   "source": [
    "my_list1.pop()\n",
    "my_list1"
   ]
  },
  {
   "cell_type": "code",
   "execution_count": 18,
   "id": "e50ad306",
   "metadata": {},
   "outputs": [
    {
     "data": {
      "text/plain": [
       "['A', 'm', 'a', 'd', 'a', 'A', 'B']"
      ]
     },
     "execution_count": 18,
     "metadata": {},
     "output_type": "execute_result"
    }
   ],
   "source": [
    "# Exercise: You can put the index of the item you want to remove into pop() to remove that element\n",
    "# Remove the 'n' from my_list1\n",
    "# Check what my_list1 looks like\n",
    "my_list1.pop(3)\n",
    "my_list1"
   ]
  },
  {
   "cell_type": "code",
   "execution_count": 19,
   "id": "bcdf19c5",
   "metadata": {},
   "outputs": [
    {
     "data": {
      "text/plain": [
       "['B', 'A', 'a', 'd', 'a', 'm', 'A']"
      ]
     },
     "execution_count": 19,
     "metadata": {},
     "output_type": "execute_result"
    }
   ],
   "source": [
    "my_list1.reverse()\n",
    "my_list1"
   ]
  },
  {
   "cell_type": "code",
   "execution_count": 20,
   "id": "47b8e47d",
   "metadata": {},
   "outputs": [
    {
     "data": {
      "text/plain": [
       "['A', 'A', 'B', 'a', 'a', 'd', 'm']"
      ]
     },
     "execution_count": 20,
     "metadata": {},
     "output_type": "execute_result"
    }
   ],
   "source": [
    "my_list1.sort()\n",
    "my_list1"
   ]
  },
  {
   "cell_type": "code",
   "execution_count": 21,
   "id": "1524c99c",
   "metadata": {},
   "outputs": [
    {
     "data": {
      "text/plain": [
       "[]"
      ]
     },
     "execution_count": 21,
     "metadata": {},
     "output_type": "execute_result"
    }
   ],
   "source": [
    "my_list1.clear()\n",
    "my_list1"
   ]
  },
  {
   "cell_type": "markdown",
   "id": "b2f544cc",
   "metadata": {},
   "source": [
    "### *Reflection* What are some things you'd like to do with lists of data? The method probably exists!"
   ]
  },
  {
   "cell_type": "markdown",
   "id": "f3b8e3f7-4345-48b5-b337-968035f48368",
   "metadata": {},
   "source": [
    "## User-defined functions (DIY)\n",
    "<p>To define a function:</p>\n",
    "<ol>\n",
    "    <li>Start with the <code>def</code> keyword.</li>\n",
    "    <li>Follow with the name of your function, parentheses with optional parameters separated by commas, and a colon.</li>\n",
    "    <li>The statements to be executed, including a return statement, follow as an indented code block.</li>\n",
    "</ol>\n",
    "Function definitions follow the syntax:\n",
    "\n",
    "~~~python\n",
    "def func(arg1, arg2):\n",
    "    statement1\n",
    "    statement2\n",
    "    ...\n",
    "    ...\n",
    "    return value\n",
    "~~~\n",
    "\n",
    "<p>A function will not do anything until it is *called*.</p>"
   ]
  },
  {
   "cell_type": "markdown",
   "id": "db1a41c9",
   "metadata": {},
   "source": [
    "<p>Run the cell below that defines i_love_cats().<br>\n",
    "Why doesn't anything happen when you run the cell? Why can't we see the output?</p>"
   ]
  },
  {
   "cell_type": "code",
   "execution_count": 22,
   "id": "d2dacb07",
   "metadata": {},
   "outputs": [],
   "source": [
    "# Example\n",
    "def i_love_cats():\n",
    "    return \"I love cats! They're my favorite!\""
   ]
  },
  {
   "cell_type": "markdown",
   "id": "117dc7fd",
   "metadata": {},
   "source": [
    "<p>Running the cell simply adds i_love_cats to the *namespace* of this notebook. Now we can *call* the function in this notebook to cause it to execute.<br>\n",
    "The function will execute only when it is called as i_love_cats().</p>"
   ]
  },
  {
   "cell_type": "code",
   "execution_count": 23,
   "id": "66fcae87",
   "metadata": {},
   "outputs": [
    {
     "data": {
      "text/plain": [
       "\"I love cats! They're my favorite!\""
      ]
     },
     "execution_count": 23,
     "metadata": {},
     "output_type": "execute_result"
    }
   ],
   "source": [
    "# Call the function by typing i_love_cats()\n",
    "i_love_cats()"
   ]
  },
  {
   "cell_type": "markdown",
   "id": "94784340",
   "metadata": {},
   "source": [
    "i_love_cats() returns a string, which we can save and use elsewhere.\n",
    "Let's call i_love_cats(), store its return value in a variable, and print it."
   ]
  },
  {
   "cell_type": "code",
   "execution_count": 24,
   "id": "7a9bcd6f",
   "metadata": {},
   "outputs": [
    {
     "name": "stdout",
     "output_type": "stream",
     "text": [
      "My life motto is: I love cats! They're my favorite!\n"
     ]
    }
   ],
   "source": [
    "cat_string = i_love_cats()\n",
    "print('My life motto is: ' + cat_string)"
   ]
  },
  {
   "cell_type": "markdown",
   "id": "db8c2465",
   "metadata": {},
   "source": [
    "Run the cell that defines silly_print() to add it to the notebook namespace.<br>\n",
    "Notice that silly_print() has one parameter, which means the user must supply one argument to run it."
   ]
  },
  {
   "cell_type": "code",
   "execution_count": 37,
   "id": "d3f9687f-d097-4788-8eda-1514920b4a6c",
   "metadata": {},
   "outputs": [],
   "source": [
    "# Example\n",
    "def silly_print(s):\n",
    "    return 'Silly ' + s + '!'"
   ]
  },
  {
   "cell_type": "markdown",
   "id": "401dbbe8",
   "metadata": {},
   "source": [
    "Execute silly_print() with arguments.<br>\n",
    "Make your own arguments!"
   ]
  },
  {
   "cell_type": "code",
   "execution_count": 38,
   "id": "0421f83b-618f-4ba6-83d1-f76705ce83ee",
   "metadata": {},
   "outputs": [
    {
     "name": "stdout",
     "output_type": "stream",
     "text": [
      "Silly hi!\n",
      "Silly cat!\n"
     ]
    }
   ],
   "source": [
    "print(silly_print('hi'))\n",
    "print(silly_print('cat'))\n",
    "# Insert your own argument\n",
    "#print(silly_print(''))\n",
    "#print(silly_print(''))"
   ]
  },
  {
   "cell_type": "markdown",
   "id": "099d1b83",
   "metadata": {},
   "source": [
    "What happens if you don't insert any argument?<br>\n",
    "Run the cell below without making any changes and see what happens."
   ]
  },
  {
   "cell_type": "code",
   "execution_count": 39,
   "id": "63a0c912",
   "metadata": {},
   "outputs": [
    {
     "ename": "TypeError",
     "evalue": "silly_print() missing 1 required positional argument: 's'",
     "output_type": "error",
     "traceback": [
      "\u001b[0;31m---------------------------------------------------------------------------\u001b[0m",
      "\u001b[0;31mTypeError\u001b[0m                                 Traceback (most recent call last)",
      "\u001b[0;32m/var/folders/l8/3wdx1vjn1jq94d50cp9h5pn00000gn/T/ipykernel_3525/2139227007.py\u001b[0m in \u001b[0;36m<module>\u001b[0;34m\u001b[0m\n\u001b[0;32m----> 1\u001b[0;31m \u001b[0msilly_print\u001b[0m\u001b[0;34m(\u001b[0m\u001b[0;34m)\u001b[0m\u001b[0;34m\u001b[0m\u001b[0;34m\u001b[0m\u001b[0m\n\u001b[0m",
      "\u001b[0;31mTypeError\u001b[0m: silly_print() missing 1 required positional argument: 's'"
     ]
    }
   ],
   "source": [
    "silly_print()"
   ]
  },
  {
   "cell_type": "markdown",
   "id": "5d3af728",
   "metadata": {},
   "source": [
    "We got a <code>TypeError</code> because silly_print() is missing its one required argument!\n",
    "<p>We can avoid this type of error by adding a default value.<br>\n",
    "Let's add a default value to silly_print().</p>"
   ]
  },
  {
   "cell_type": "code",
   "execution_count": 40,
   "id": "c9831f68",
   "metadata": {},
   "outputs": [],
   "source": [
    "# Example\n",
    "def silly_print(s='default'):\n",
    "    return 'Silly ' + s + '!'"
   ]
  },
  {
   "cell_type": "code",
   "execution_count": 42,
   "id": "b72d7bba",
   "metadata": {},
   "outputs": [
    {
     "data": {
      "text/plain": [
       "'Silly default!'"
      ]
     },
     "execution_count": 42,
     "metadata": {},
     "output_type": "execute_result"
    }
   ],
   "source": [
    "silly_print()"
   ]
  },
  {
   "cell_type": "markdown",
   "id": "745a9cf4",
   "metadata": {},
   "source": [
    "A common operation meteorologists use are calculations on sequences of data.<br>\n",
    "Let's write a function converting a temperature given in Fahrenheit to Celsius.<br><br>\n",
    "The conversion equation from Fahrenheit to Celsius is:<br>\n",
    "$$T_{°C}=\\frac{5}{9}(T_{°F}-32)$$"
   ]
  },
  {
   "cell_type": "code",
   "execution_count": 30,
   "id": "d4f7021e",
   "metadata": {},
   "outputs": [],
   "source": [
    "def fahrenheit_to_celsius(t):\n",
    "    return 5/9 * (t-32)"
   ]
  },
  {
   "cell_type": "markdown",
   "id": "fe3a12a3",
   "metadata": {},
   "source": [
    "Let's try it out!"
   ]
  },
  {
   "cell_type": "code",
   "execution_count": 31,
   "id": "699d7ebe",
   "metadata": {},
   "outputs": [
    {
     "name": "stdout",
     "output_type": "stream",
     "text": [
      "0.0\n"
     ]
    }
   ],
   "source": [
    "# Convert 32°F to Celsius\n",
    "print(fahrenheit_to_celsius(32))"
   ]
  },
  {
   "cell_type": "markdown",
   "id": "23496202",
   "metadata": {},
   "source": [
    "Write your own function to convert Fahrenheit to Kelvin! Consider if you would like to round your answer.<br>\n",
    "The conversion equation from Fahrenheit to Celsius is:<br>\n",
    "$$T_{K}=\\frac{5}{9}(T_{°F}-32)+273.15$$"
   ]
  },
  {
   "cell_type": "code",
   "execution_count": 32,
   "id": "3398d046",
   "metadata": {},
   "outputs": [],
   "source": [
    "# Exercise: Write a function convert Fahrenheit to Kelvin\n",
    "def fahrenheit_to_kelvin(t):\n",
    "    return 5/9 * (t-32) + 273.15"
   ]
  },
  {
   "cell_type": "markdown",
   "id": "6c63a9e8",
   "metadata": {},
   "source": [
    "What if we want to apply this function to every temperature in a list of temperatures, without having to access each temperature individually ourselves?<br>\n",
    "We could use a for loop!"
   ]
  },
  {
   "cell_type": "code",
   "execution_count": 35,
   "id": "40757ee1",
   "metadata": {},
   "outputs": [
    {
     "name": "stdout",
     "output_type": "stream",
     "text": [
      "24.444444444444446\n",
      "25.0\n",
      "25.555555555555557\n",
      "28.333333333333336\n",
      "26.666666666666668\n",
      "31.666666666666668\n",
      "28.88888888888889\n",
      "18.88888888888889\n",
      "28.333333333333336\n",
      "31.666666666666668\n",
      "34.44444444444444\n",
      "35.55555555555556\n",
      "34.44444444444444\n",
      "32.22222222222222\n",
      "32.77777777777778\n"
     ]
    }
   ],
   "source": [
    "for temp in t_max:\n",
    "    print(fahrenheit_to_celsius(temp))"
   ]
  },
  {
   "cell_type": "markdown",
   "id": "fb4c8216",
   "metadata": {},
   "source": [
    "We also could use the map() built-in function."
   ]
  },
  {
   "cell_type": "code",
   "execution_count": 34,
   "id": "e91dd24d",
   "metadata": {},
   "outputs": [
    {
     "name": "stdout",
     "output_type": "stream",
     "text": [
      "24.444444444444446, 25.0, 25.555555555555557, 28.333333333333336, 26.666666666666668, 31.666666666666668, 28.88888888888889, 18.88888888888889, 28.333333333333336, 31.666666666666668, 34.44444444444444, 35.55555555555556, 34.44444444444444, 32.22222222222222, 32.77777777777778\n"
     ]
    }
   ],
   "source": [
    "print(*list(map(fahrenheit_to_celsius, t_max)), sep=', ')"
   ]
  },
  {
   "cell_type": "markdown",
   "id": "4b14579d",
   "metadata": {},
   "source": [
    "### \\*args and **kwargs"
   ]
  },
  {
   "cell_type": "code",
   "execution_count": null,
   "id": "2707eb5f",
   "metadata": {},
   "outputs": [],
   "source": []
  }
 ],
 "metadata": {
  "kernelspec": {
   "display_name": "Python 3 (ipykernel)",
   "language": "python",
   "name": "python3"
  },
  "language_info": {
   "codemirror_mode": {
    "name": "ipython",
    "version": 3
   },
   "file_extension": ".py",
   "mimetype": "text/x-python",
   "name": "python",
   "nbconvert_exporter": "python",
   "pygments_lexer": "ipython3",
   "version": "3.9.7"
  }
 },
 "nbformat": 4,
 "nbformat_minor": 5
}
